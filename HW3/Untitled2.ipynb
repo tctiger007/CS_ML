{
 "cells": [
  {
   "cell_type": "code",
   "execution_count": null,
   "metadata": {},
   "outputs": [],
   "source": [
    "data = np.loadtxt(\"/Users/wangfei/Documents/Courses/CS/CS412/HW/HW1/data.csv\")\n",
    "np.random.seed(100)\n",
    "np.random.shuffle(data)\n",
    "features = []\n",
    "digits = []\n",
    "for row in data:\n",
    "    if(row[0]==1 or row[0]==5):\n",
    "        features.append(row[1:])\n",
    "        digits.append(str(row[0]))\n",
    "numTrain = int(len(features)*0.2)\n",
    "trainFeatures = features[:numTrain]\n",
    "testFeatures = features[numTrain:]\n",
    "trainDigits = digits[:numTrain]\n",
    "testDigits = digits[numTrain:]\n",
    "def ExtractFeat(dataset,label):\n",
    "    X = []   ##mean\n",
    "    Y = []   ##std\n",
    "    colors = []\n",
    "    for index in range(len(dataset)):\n",
    "        X.append(np.mean(dataset[index]))\n",
    "        Y.append(np.std(dataset[index]))  \n",
    "        if(label[index]==\"1.0\"):\n",
    "            colors.append(\"b\")\n",
    "        else:\n",
    "            colors.append(\"r\")\n",
    "    return [X, Y, colors];\n",
    "    \n",
    "##normalization     \n",
    "def normalize(lists):\n",
    "    norm = [i * 2/(max(lists)-min(lists))+\n",
    "            1-2*max(lists)/(max(lists)-min(lists)) for i in lists]\n",
    "    return norm;\n",
    "##normalize two features\n",
    "###training features\n",
    "Xnorm = normalize(ExtractFeat(trainFeatures,trainDigits)[0])\n",
    "Ynorm = normalize(ExtractFeat(trainFeatures,trainDigits)[1])\n",
    "Xnorm = np.asarray(Xnorm)\n",
    "Ynorm = np.asarray(Ynorm)\n",
    "simpleTrain = np.column_stack((Xnorm,Ynorm))"
   ]
  },
  {
   "cell_type": "code",
   "execution_count": 12,
   "metadata": {},
   "outputs": [
    {
     "data": {
      "text/plain": [
       "2"
      ]
     },
     "execution_count": 12,
     "metadata": {},
     "output_type": "execute_result"
    }
   ],
   "source": [
    "simpleTrain.shape\n",
    "len(simpleTrain[0])      # x  312*2\n",
    "#trainDigits    # y  312 list "
   ]
  }
 ],
 "metadata": {
  "kernelspec": {
   "display_name": "Python 3",
   "language": "python",
   "name": "python3"
  },
  "language_info": {
   "codemirror_mode": {
    "name": "ipython",
    "version": 3
   },
   "file_extension": ".py",
   "mimetype": "text/x-python",
   "name": "python",
   "nbconvert_exporter": "python",
   "pygments_lexer": "ipython3",
   "version": "3.7.1"
  }
 },
 "nbformat": 4,
 "nbformat_minor": 2
}
