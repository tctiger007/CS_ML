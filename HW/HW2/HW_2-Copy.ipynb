{
 "cells": [
  {
   "cell_type": "code",
   "execution_count": 1,
   "metadata": {},
   "outputs": [],
   "source": [
    "import numpy as np\n",
    "import matplotlib.pyplot as mp\n",
    "from pylab import show\n",
    "from sklearn.decomposition import KernelPCA\n",
    "from sklearn.linear_model import LogisticRegression\n",
    "from sklearn.metrics import accuracy_score \n",
    "from sklearn.svm import SVC\n",
    "from sklearn.model_selection import cross_val_score"
   ]
  },
  {
   "cell_type": "code",
   "execution_count": 2,
   "metadata": {},
   "outputs": [],
   "source": [
    "data = np.loadtxt(\"/Users/wangfei/Documents/Courses/CS/CS412/HW/HW1/data.csv\")\n",
    "np.random.seed(100)\n",
    "np.random.shuffle(data)\n",
    "features = []\n",
    "digits = []\n",
    "for row in data:\n",
    "    if(row[0]==1 or row[0]==5):\n",
    "        features.append(row[1:])\n",
    "        digits.append(str(row[0]))\n",
    "numTrain = int(len(features)*0.2)\n",
    "trainFeatures = features[:numTrain]\n",
    "testFeatures = features[numTrain:]\n",
    "trainDigits = digits[:numTrain]\n",
    "testDigits = digits[numTrain:]"
   ]
  },
  {
   "cell_type": "code",
   "execution_count": 3,
   "metadata": {},
   "outputs": [],
   "source": [
    "#polynomial kernel with degree 3\n",
    "kPCA = KernelPCA(n_components=2, kernel='poly', degree = 3)\n",
    "kPCA_transform = kPCA.fit_transform(trainFeatures)\n",
    "#trainFeatures_transformed.shape   (312, 2)"
   ]
  },
  {
   "cell_type": "markdown",
   "metadata": {},
   "source": [
    "## 1 Feature Extraction  \n",
    "Python package \"sklearn\" was used. Figure 2.1 shows the two features extracted by Kernel PCA with polynomail kernel with degree 3. \n",
    "\n",
    "**a) Compare kernel PCA features with the features you selected from HW1. Do these features seem to better separate the data?**  \n",
    "Yes. The features extracted by kernel PCA seems to be separating the data better. The features I used for HW1 are mean intensity and intensity standard deviation. Although these two features separate data pretty well, the gap between two groups are pretty narrow. But in this kPCA case, the two groups are widely separated and are thus better (see Figure 2.1). \n",
    "\n",
    "**b) Give the explained variance ratio for each of the two feature extractions given above. Is there one of the methods which explains more variance than the other? Is this what you expect? Explain your answer.**  \n"
   ]
  },
  {
   "cell_type": "code",
   "execution_count": 4,
   "metadata": {},
   "outputs": [
    {
     "data": {
      "image/png": "[encoded data removed]",
      "text/plain": [
       "<Figure size 432x288 with 1 Axes>"
      ]
     },
     "metadata": {
      "needs_background": "light"
     },
     "output_type": "display_data"
    },
    {
     "ename": "NameError",
     "evalue": "name 'Xnorm' is not defined",
     "output_type": "error",
     "traceback": [
      "\u001b[0;31m---------------------------------------------------------------------------\u001b[0m",
      "\u001b[0;31mNameError\u001b[0m                                 Traceback (most recent call last)",
      "\u001b[0;32m<ipython-input-4-18bbeef735c8>\u001b[0m in \u001b[0;36m<module>\u001b[0;34m\u001b[0m\n\u001b[1;32m     28\u001b[0m \u001b[0;34m\u001b[0m\u001b[0m\n\u001b[1;32m     29\u001b[0m \u001b[0;31m######## 1st HW two features #########\u001b[0m\u001b[0;34m\u001b[0m\u001b[0;34m\u001b[0m\u001b[0;34m\u001b[0m\u001b[0m\n\u001b[0;32m---> 30\u001b[0;31m \u001b[0mnp\u001b[0m\u001b[0;34m.\u001b[0m\u001b[0mvar\u001b[0m\u001b[0;34m(\u001b[0m\u001b[0mXnorm\u001b[0m\u001b[0;34m)\u001b[0m\u001b[0;34m/\u001b[0m\u001b[0mnp\u001b[0m\u001b[0;34m.\u001b[0m\u001b[0msum\u001b[0m\u001b[0;34m(\u001b[0m\u001b[0mvar\u001b[0m\u001b[0;34m)\u001b[0m  \u001b[0;31m#0.0017717496326050638\u001b[0m\u001b[0;34m\u001b[0m\u001b[0;34m\u001b[0m\u001b[0m\n\u001b[0m\u001b[1;32m     31\u001b[0m \u001b[0mnp\u001b[0m\u001b[0;34m.\u001b[0m\u001b[0mvar\u001b[0m\u001b[0;34m(\u001b[0m\u001b[0mYnorm\u001b[0m\u001b[0;34m)\u001b[0m\u001b[0;34m/\u001b[0m\u001b[0mnp\u001b[0m\u001b[0;34m.\u001b[0m\u001b[0msum\u001b[0m\u001b[0;34m(\u001b[0m\u001b[0mvar\u001b[0m\u001b[0;34m)\u001b[0m  \u001b[0;31m#0.0024516214368288866\u001b[0m\u001b[0;34m\u001b[0m\u001b[0;34m\u001b[0m\u001b[0m\n\u001b[1;32m     32\u001b[0m \u001b[0;31m#sum = 0.00422337106943395\u001b[0m\u001b[0;34m\u001b[0m\u001b[0;34m\u001b[0m\u001b[0;34m\u001b[0m\u001b[0m\n",
      "\u001b[0;31mNameError\u001b[0m: name 'Xnorm' is not defined"
     ]
    }
   ],
   "source": [
    "##Figure 2.1\n",
    "img_path = '/Users/wangfei/Documents/Courses/CS/CS412/HW/HW2/Figures/'\n",
    "mp.figure()\n",
    "mp.title(\"Kernel PCA\")\n",
    "colors = []\n",
    "for index in range(len(trainFeatures)):\n",
    "    if(trainDigits[index]==\"1.0\"):\n",
    "        colors.append(\"b\")\n",
    "    else:\n",
    "        colors.append(\"r\")\n",
    "mp.scatter(kPCA_transform[:,0], kPCA_transform[:,1],c=colors)\n",
    "mp.xlabel(\"1st principal component\")\n",
    "mp.ylabel(\"2nd principal component\")\n",
    "mp.savefig(img_path + 'Figure2_1.png', dpi = 300)\n",
    "show() \n",
    "######## kernel PCA #########\n",
    "explained_variance = np.var(kPCA_transform, axis=0)\n",
    "explained_variance_ratio = explained_variance / np.sum(explained_variance)\n",
    "explained_variance_ratio  #array([0.78807441, 0.21192559])\n",
    "np.cumsum(explained_variance_ratio)  #array([0.78807441, 1.        ])\n",
    "\n",
    "var = np.var(trainFeatures,0)\n",
    "######## kernel PCA variance explained#########\n",
    "explained_variance[0]/np.sum(var)  # 0.011673124960289095\n",
    "explained_variance[1]/np.sum(var)  # 0.0031390867465473904 \n",
    "#sum = 0.014812211706836486\n",
    "\n",
    "\n",
    "######## 1st HW two features #########\n",
    "np.var(Xnorm)/np.sum(var)  #0.0017717496326050638\n",
    "np.var(Ynorm)/np.sum(var)  #0.0024516214368288866\n",
    "#sum = 0.00422337106943395"
   ]
  },
  {
   "cell_type": "markdown",
   "metadata": {},
   "source": [
    "## 2 Logistic Regression  \n",
    "Two features used in HW1 are mean intensity and intensity standard deviation. The parameter C in logistic regression model is the inverse of the strength of the regularization. So the smaller C is, the bigger the model penalize the coefficient to prevent overfitting.  \n",
    "Comparison of the four models:  \n",
    "1. The logistic regression model with L2 penalty and C = 0.01 does not seem to have a high prediction accuracy (accuracy = 0.753).  \n",
    "2. L2 penalty with C = 2 is better for our data set. The accuracy (accuracy = 0.891) is higher.  \n",
    "3. The model with L1 penalty and C = 0.01 suffers underfitting. Two groups do not separate (accuracy = 0.670).  \n",
    "4. The model with L1 penalty and C = 2 is performing the best among these four different models (accuracy = 0.952).  \n",
    "Lasso shrinkage (L1) tends to shrink the less important features' coefficients to zero together.  \n",
    "In this homework, the feature number is not big and when we penalize too much (C = 0.01 case), we penalize too much and therefore causing underfitting in case 3.  \n",
    "Case 4 outperforms the other cases.  \n",
    "To summarize, in our data set using only two features described in HW1, L1 penalty does not cause overfitting. Actually when the feature numbers are small and logistic regression is just a linear separator, the likelihood that such a model suffers overfitting is low. "
   ]
  },
  {
   "cell_type": "code",
   "execution_count": null,
   "metadata": {},
   "outputs": [],
   "source": [
    "## Use the two features that you created for your 2D graph in HW1 \n",
    "X = []   ##mean\n",
    "Y = []   ##std\n",
    "colors = []\n",
    "for index in range(len(trainFeatures)):\n",
    "    X.append(np.mean(trainFeatures[index]))\n",
    "    Y.append(np.std(trainFeatures[index]))  \n",
    "    if(trainDigits[index]==\"1.0\"):\n",
    "        colors.append(\"b\")\n",
    "    else:\n",
    "        colors.append(\"r\")\n",
    "##normalization     \n",
    "def normalize(lists):\n",
    "    norm = [i * 2/(max(lists)-min(lists))+\n",
    "            1-2*max(lists)/(max(lists)-min(lists)) for i in lists]\n",
    "    return norm;\n",
    "##normalize two features \n",
    "Xnorm = normalize(X)\n",
    "Ynorm = normalize(Y)\n",
    "Xnorm = np.asarray(Xnorm)\n",
    "Ynorm = np.asarray(Ynorm)\n",
    "simpleTrain = np.column_stack((Xnorm,Ynorm))\n",
    "#logistic regression models \n",
    "lr_c1_l2 = LogisticRegression(penalty = 'l2', solver = 'liblinear', C = 0.01).fit(simpleTrain, trainDigits)\n",
    "lr_c2_l2 = LogisticRegression(penalty = 'l2', solver = 'liblinear', C = 2).fit(simpleTrain, trainDigits)\n",
    "#Extra credit Using L1 penalty\n",
    "lr_c1_l1 = LogisticRegression(penalty = 'l1', solver = 'liblinear', C = 0.01).fit(simpleTrain, trainDigits)\n",
    "lr_c2_l1 = LogisticRegression(penalty = 'l1', solver = 'liblinear', C = 2).fit(simpleTrain, trainDigits)"
   ]
  },
  {
   "cell_type": "code",
   "execution_count": null,
   "metadata": {},
   "outputs": [],
   "source": [
    "xPred = []\n",
    "yPred = []\n",
    "for xP in range(-100,100):\n",
    "    xP = xP/100\n",
    "    for yP in range(-100,100):\n",
    "        yP = yP/100\n",
    "        xPred.append(xP)\n",
    "        yPred.append(yP)\n",
    "\n",
    "coordinate = list(zip(xPred,yPred))\n",
    "\n",
    "def pred(model):\n",
    "    preds = model.predict(coordinate)\n",
    "    cPred = []\n",
    "    for i in range(len(coordinate)):\n",
    "        if(preds[i] == \"1.0\"):\n",
    "            cPred.append(\"b\")\n",
    "        else:\n",
    "            cPred.append(\"r\")\n",
    "    return cPred;            "
   ]
  },
  {
   "cell_type": "code",
   "execution_count": null,
   "metadata": {},
   "outputs": [],
   "source": [
    "def accuracy(model):\n",
    "    preds = model.predict(simpleTrain)\n",
    "    accuracy = accuracy_score(trainDigits,preds)\n",
    "    return accuracy;\n",
    "#accuracy for four models \n",
    "[accuracy(lr_c1_l2), accuracy(lr_c2_l2), \n",
    " accuracy(lr_c1_l1), accuracy(lr_c2_l1)]"
   ]
  },
  {
   "cell_type": "code",
   "execution_count": null,
   "metadata": {
    "scrolled": true
   },
   "outputs": [],
   "source": [
    "#define plot function: for plotting decision boundary figures and CV_error figures \n",
    "def plot(grid1,grid2,plotNum,fileName,plotType,model,\n",
    "         subtitle,ylimL,ylimU,xlab,ylab):   \n",
    "    fig = mp.figure()\n",
    "    if(plotNum==1):\n",
    "        mp.title(fileName)\n",
    "        if(plotType==1):\n",
    "            mp.scatter(Xnorm, Ynorm, c=colors, s=3)\n",
    "            mp.scatter(xPred, yPred, s=3, c=pred(model),alpha=.2)\n",
    "        elif(plotType==2):\n",
    "            mp.errorbar(c, model[0], marker='s', yerr=model[1],fmt='o',\n",
    "                        markersize=2, capsize=1.5, elinewidth=1)\n",
    "            mp.xscale('log')\n",
    "        else:\n",
    "            print('Plot Type not defined.')\n",
    "        mp.ylim(ylimL,ylimU)\n",
    "        mp.xlabel(xlab)\n",
    "        mp.ylabel(ylab)\n",
    "        mp.savefig(img_path + fileName, dpi = 300)\n",
    "    else:\n",
    "        for i in range(1,(plotNum+1)):\n",
    "            ax = fig.add_subplot(grid1,grid2,i)\n",
    "            if(plotType==1):\n",
    "                ax.scatter(Xnorm, Ynorm, c=colors, s=3)\n",
    "                ax.scatter(xPred, yPred, s=3, c=pred(model[i-1]),alpha=.04)\n",
    "            elif(plotType==2):\n",
    "                ax.errorbar(c, model[i-1][0], marker='s', yerr=model[i-1][1],fmt='o',\n",
    "                        markersize=2, capsize=1.5, elinewidth=1)\n",
    "                ax.set_xscale('log')\n",
    "            else:\n",
    "                print('Plot Type not defined.')\n",
    "            ax.set_title(subtitle[i-1])\n",
    "            ax.set_ylim(ylimL,ylimU)\n",
    "            ax.set_xlabel(xlab)\n",
    "            ax.set_ylabel(ylab)\n",
    "            mp.subplots_adjust(top=0.92, bottom=0.12, left=0.11, right=0.94, \n",
    "                               hspace=0.60, wspace=0.45)\n",
    "            mp.savefig(img_path + fileName, dpi = 300)\n",
    "    return show(); "
   ]
  },
  {
   "cell_type": "code",
   "execution_count": null,
   "metadata": {},
   "outputs": [],
   "source": [
    "#L2 penalty, C=0.01 Figure 2.2     \n",
    "plot(grid1=1,grid2=1,plotNum=1,fileName='Figure2_2.png',plotType=1,model=lr_c1_l2,\n",
    "     subtitle=(''),ylimL=-1,ylimU=1,xlab='Mean Intensity',ylab='Intensity SD')   \n",
    "#L2 penalty, C=2 Figure 2.3\n",
    "plot(grid1=1,grid2=1,plotNum=1,fileName='Figure2_3.png',plotType=1,model=lr_c2_l2,\n",
    "     subtitle=(''),ylimL=-1,ylimU=1,xlab='Mean Intensity',ylab='Intensity SD')\n",
    "#L1 penalty, C=0.01\n",
    "plot(grid1=1,grid2=1,plotNum=1,fileName='Figure2_c1_l1.png',plotType=1,model=lr_c1_l1,\n",
    "     subtitle=(''),ylimL=-1,ylimU=1,xlab='Mean Intensity',ylab='Intensity SD')\n",
    "#L1 penalty, C=2\n",
    "plot(grid1=1,grid2=1,plotNum=1,fileName='Figure2_c2_l1.png',plotType=1,model=lr_c2_l1,\n",
    "     subtitle=(''),ylimL=-1,ylimU=1,xlab='Mean Intensity',ylab='Intensity SD')"
   ]
  },
  {
   "cell_type": "markdown",
   "metadata": {},
   "source": [
    "## 3 Support Vector Machines\n"
   ]
  },
  {
   "cell_type": "code",
   "execution_count": null,
   "metadata": {},
   "outputs": [],
   "source": [
    "c = np.logspace(-2,2,num=40,endpoint=True)\n",
    "def cv_err(kernel, gamma, dim, degree=3):\n",
    "    err_bar = []\n",
    "    err_mean = []\n",
    "    for index in range(40):\n",
    "        if(kernel=='linear'):\n",
    "            svc = SVC(kernel = kernel, gamma = gamma, C = c[index])\n",
    "        elif(kernel=='poly'):\n",
    "            svc = SVC(kernel = kernel, degree = degree, gamma = gamma, C = c[index])\n",
    "        elif(kernel=='rbf'):\n",
    "            svc = SVC(kernel = kernel, gamma = gamma, C =c[index]) \n",
    "        else:\n",
    "            print('Kernel not defined.')\n",
    "        if(dim==2):\n",
    "            acc = cross_val_score(svc, simpleTrain, trainDigits, cv=10)\n",
    "        elif(dim==256):\n",
    "            acc = cross_val_score(svc, np.asarray(trainFeatures), trainDigits, cv=10)\n",
    "        else:\n",
    "            print('Dimension not defined.')\n",
    "        err = 1 - acc\n",
    "        err_mean.append(err.mean())\n",
    "        err_bar.append(1.96 * err.std())\n",
    "    return [err_mean,err_bar];"
   ]
  },
  {
   "cell_type": "code",
   "execution_count": null,
   "metadata": {},
   "outputs": [],
   "source": [
    "#Figure 2.4 SVM linear 2D CV_error\n",
    "cv_err_2d_linear = cv_err('linear', 'auto', 2)\n",
    "plot(grid1=1,grid2=1,plotNum=1,fileName='Figure2_4.png',plotType=2,\n",
    "     model=cv_err_2d_linear,subtitle=(''),ylimL=-0.1,ylimU=0.4,xlab='C',ylab='CV_Error')\n",
    "#256 space Figure 2.5 \n",
    "cv_err_256d_linear = cv_err('linear','auto', 256)\n",
    "plot(grid1=1,grid2=1,plotNum=1,fileName='Figure2_5.png',plotType=2,\n",
    "     model=cv_err_256d_linear,subtitle=(''),ylimL=-0.1,ylimU=0.4,xlab='C',ylab='CV_Error')"
   ]
  },
  {
   "cell_type": "code",
   "execution_count": null,
   "metadata": {},
   "outputs": [],
   "source": [
    "#2D space with optimal C  Figure 2.6\n",
    "def c_opt(cv):\n",
    "    upper_bound = np.asarray(cv[0])+np.asarray(cv[1])\n",
    "    min_upper_bound = np.min(upper_bound)\n",
    "    indx = np.argmin(upper_bound)\n",
    "    return c[indx];\n",
    "c_opt(cv_err_2d_linear)  #30.702906297578497\n",
    "#SVM with optimal C  linear Figure 2.6\n",
    "svm_opt = SVC(kernel = 'linear', C = c_opt(cv_err_2d_linear))\n",
    "svm_opt_fit = svm_opt.fit(simpleTrain, trainDigits)\n",
    "plot(grid1=1,grid2=1,plotNum=1,fileName='Figure2_6.png',plotType=1,model=svm_opt_fit,\n",
    "     subtitle=(''),ylimL=-1,ylimU=1,xlab='Mean Intensity',ylab='Intensity SD')   \n",
    "accuracy(svm_opt_fit)  #0.967948717948718"
   ]
  },
  {
   "cell_type": "code",
   "execution_count": null,
   "metadata": {},
   "outputs": [],
   "source": [
    "#polynomial kernel  2D\n",
    "cv_err_2d_poly2 = cv_err('poly', 'auto', 2, degree=2)\n",
    "cv_err_2d_poly5 = cv_err('poly', 'auto', 2, degree=5)\n",
    "cv_err_2d_poly10 = cv_err('poly', 'auto', 2, degree=10)\n",
    "cv_err_2d_poly20 = cv_err('poly', 'auto', 2, degree=20)\n",
    "c_opt_2d_poly_models = (cv_err_2d_poly2,cv_err_2d_poly5,cv_err_2d_poly10,cv_err_2d_poly20)\n",
    "plot(grid1=2,grid2=2,plotNum=4,fileName='Figure2_7.png',plotType=2,model=c_opt_2d_poly_models,\n",
    "     subtitle=('Polynomial, degree=2','Polynomial, degree=5',\n",
    "              'Polynomial, degree=10','Polynomial, degree=20'),\n",
    "     ylimL=-0.1,ylimU=0.4,xlab='C',ylab='CV_Error')   "
   ]
  },
  {
   "cell_type": "code",
   "execution_count": null,
   "metadata": {},
   "outputs": [],
   "source": [
    "#polynomial kernel  2D\n",
    "cv_err_2d_poly2 = cv_err('poly', 'auto', 2, degree=2)\n",
    "cv_err_2d_poly3 = cv_err('poly', 'auto', 2, degree=3)\n",
    "cv_err_2d_poly4 = cv_err('poly', 'auto', 2, degree=4)\n",
    "cv_err_2d_poly5 = cv_err('poly', 'auto', 2, degree=5)\n",
    "c_opt_2d_poly_models = (cv_err_2d_poly2,cv_err_2d_poly3,cv_err_2d_poly4,cv_err_2d_poly5)\n",
    "plot(grid1=2,grid2=2,plotNum=4,fileName='Figure2_7b.png',plotType=2,model=c_opt_2d_poly_models,\n",
    "     subtitle=('Polynomial, degree=2','Polynomial, degree=3',\n",
    "              'Polynomial, degree=4','Polynomial, degree=5'),\n",
    "     ylimL=-0.1,ylimU=0.4,xlab='C',ylab='CV_Error')   "
   ]
  },
  {
   "cell_type": "code",
   "execution_count": null,
   "metadata": {},
   "outputs": [],
   "source": [
    "c_opt_2d_poly2 = c_opt(cv_err_2d_poly2) \n",
    "c_opt_2d_poly5 = c_opt(cv_err_2d_poly5)\n",
    "c_opt_2d_poly10 = c_opt(cv_err_2d_poly10)\n",
    "c_opt_2d_poly20 = c_opt(cv_err_2d_poly20)\n",
    "c_opt_2d_poly2, c_opt_2d_poly5, c_opt_2d_poly10, c_opt_2d_poly20  \n",
    "#(38.88155180308085, 100.0, 0.01, 0.01)\n",
    "\n",
    "def opt_model(kernel, C, gamma, degree=3):\n",
    "    opt_model = SVC(kernel=kernel,degree=degree,C=C,gamma=gamma)\n",
    "    opt_model = opt_model.fit(simpleTrain,trainDigits)\n",
    "    return opt_model;\n",
    "\n",
    "svm_opt_2d_poly2 = opt_model('poly',c_opt_2d_poly2,'auto',degree=2)\n",
    "svm_opt_2d_poly5 = opt_model('poly',c_opt_2d_poly5,'auto',degree=5)\n",
    "svm_opt_2d_poly10 = opt_model('poly',c_opt_2d_poly10,'auto',degree=10)\n",
    "svm_opt_2d_poly20 = opt_model('poly',c_opt_2d_poly20,'auto',degree=20)\n",
    "#decision boundary for various polynomial degrees at their optimal C's \n",
    "svm_opt_2d_poly_models = (svm_opt_2d_poly2,svm_opt_2d_poly5,svm_opt_2d_poly10,svm_opt_2d_poly20)\n",
    "plot(grid1=2,grid2=2,plotNum=4,fileName='Figure2_8.png',plotType=1,model=svm_opt_2d_poly_models,\n",
    "     subtitle=('Polynomial, degree=2','Polynomial, degree=5',\n",
    "              'Polynomial, degree=10','Polynomial, degree=20'),\n",
    "     ylimL=-1,ylimU=1,xlab='Mean Intensity',ylab='Intensity SD') "
   ]
  },
  {
   "cell_type": "code",
   "execution_count": null,
   "metadata": {},
   "outputs": [],
   "source": [
    "def min_upper(degree):\n",
    "    upper_bound_degree = np.asarray(degree[0])+np.asarray(degree[1])\n",
    "    min_upper = np.min(upper_bound_degree)\n",
    "    return min_upper;\n",
    "[min_upper(cv_err_2d_poly2), min_upper(cv_err_2d_poly5), \n",
    " min_upper(cv_err_2d_poly10), min_upper(cv_err_2d_poly20)] \n",
    "#degree 2 and c=c_opt_2d_poly2 optimizes the 2D polynomial model. Save as Figure 2.9\n",
    "plot(grid1=1,grid2=1,plotNum=1,fileName='Figure2_9.png',plotType=1,model=svm_opt_2d_poly2,\n",
    "     subtitle=(''),ylimL=-1,ylimU=1,xlab='Mean Intensity',ylab='Intensity SD') "
   ]
  },
  {
   "cell_type": "markdown",
   "metadata": {},
   "source": []
  },
  {
   "cell_type": "code",
   "execution_count": null,
   "metadata": {},
   "outputs": [],
   "source": []
  },
  {
   "cell_type": "code",
   "execution_count": null,
   "metadata": {},
   "outputs": [],
   "source": [
    "#kernel=‘rbf’\n",
    "##gamma=0.01, 1, 10 and 100\n",
    "svm_2d_rbf_gamma_models = [cv_err('rbf',0.01,2),cv_err('rbf',1,2),cv_err('rbf',10,2),cv_err('rbf',100,2)]\n",
    "plot(grid1=2,grid2=2,plotNum=4,fileName='Figure2_10.png',plotType=2,\n",
    "     model=svm_2d_rbf_gamma_models,\n",
    "     subtitle=('Radial, gamma=0.01','Radial, gamma=1','Radial, gamma=10','Radial, gamma=100'),\n",
    "     ylimL=-0.1,ylimU=0.4,xlab='C',ylab='CV_Error')"
   ]
  },
  {
   "cell_type": "markdown",
   "metadata": {},
   "source": [
    "## extra "
   ]
  },
  {
   "cell_type": "code",
   "execution_count": null,
   "metadata": {},
   "outputs": [],
   "source": [
    "#kernel=‘rbf’\n",
    "##gamma=0.01, 20, 100 and 1000\n",
    "svm_2d_rbf_gamma_models = [cv_err('rbf',0.01,2),cv_err('rbf',20,2),cv_err('rbf',100,2),cv_err('rbf',1000,2)]\n",
    "plot(grid1=2,grid2=2,plotNum=4,fileName='Figure2_extra.png',plotType=2,\n",
    "     model=svm_2d_rbf_gamma_models,\n",
    "     subtitle=('Radial, gamma=0.01','Radial, gamma=20','Radial, gamma=100','Radial, gamma=1000'),\n",
    "     ylimL=-0.1,ylimU=0.4,xlab='C',ylab='CV_Error')"
   ]
  },
  {
   "cell_type": "code",
   "execution_count": null,
   "metadata": {},
   "outputs": [],
   "source": [
    "#kernel='poly', gamma=0.01, 1, 10 and 100, degree=2 \n",
    "svm_2d_poly2_gamma_models = [cv_err('poly',0.01,2,degree=2),cv_err('poly',1,2,degree=2),\n",
    "            cv_err('poly',10,2,degree=2),cv_err('poly',100,2,degree=2)]\n",
    "plot(grid1=2,grid2=2,plotNum=4,fileName='Figure2_11.png',plotType=2,\n",
    "     model=svm_2d_poly2_gamma_models,\n",
    "     subtitle=('Polynomial(k=2), gamma=0.01','Polynomial(k=2), gamma=1',\n",
    "               'Polynomial(k=2), gamma=10','Polynomial(k=2), gamma=100'),\n",
    "     ylimL=-0.1,ylimU=0.4,xlab='C',ylab='CV_Error')"
   ]
  },
  {
   "cell_type": "code",
   "execution_count": null,
   "metadata": {},
   "outputs": [],
   "source": [
    "#kernel='poly', gamma=0.01, 1, 10 and 100, degree=5 \n",
    "svm_2d_poly5_gamma_models = [cv_err('poly',0.01,2,degree=5),cv_err('poly',1,2,degree=5),\n",
    "            cv_err('poly',10,2,degree=5),cv_err('poly',100,2,degree=5)]\n",
    "plot(grid1=2,grid2=2,plotNum=4,fileName='Figure2_12.png',plotType=2,\n",
    "     model=svm_2d_poly5_gamma_models,\n",
    "     subtitle=('Polynomial(k=5), gamma=0.01','Polynomial(k=5), gamma=1',\n",
    "               'Polynomial(k=5), gamma=10','Polynomial(k=5), gamma=100'),\n",
    "     ylimL=-0.1,ylimU=0.4,xlab='C',ylab='CV_Error')"
   ]
  },
  {
   "cell_type": "code",
   "execution_count": null,
   "metadata": {},
   "outputs": [],
   "source": [
    "#gamma=10, radial \n",
    "\n",
    "c_opt_2d_rad_g10 = c_opt(cv_err('rbf',10,2))\n",
    "plot(grid1=1,grid2=1,plotNum=1,fileName='Figure2_14.png',plotType=1,\n",
    "     model= opt_model('rbf',c_opt_2d_rad_g10,10) ,\n",
    "     subtitle=('Radial, gamma=10'),\n",
    "     ylimL=-1,ylimU=1,xlab='Mean Intensity',ylab='Intensity SD') \n"
   ]
  },
  {
   "cell_type": "code",
   "execution_count": null,
   "metadata": {},
   "outputs": [],
   "source": [
    "#gamma = 1, radial\n",
    "c_opt_2d_rad_g1 = c_opt(cv_err('rbf',1,2))\n",
    "plot(grid1=1,grid2=1,plotNum=1,fileName='Figure2_15.png',plotType=1,\n",
    "     model= opt_model('rbf',c_opt_2d_rad_g1,1) ,\n",
    "     subtitle=('Radial, gamma=1'),\n",
    "     ylimL=-1,ylimU=1,xlab='Mean Intensity',ylab='Intensity SD') "
   ]
  }
 ],
 "metadata": {
  "kernelspec": {
   "display_name": "Python 3",
   "language": "python",
   "name": "python3"
  },
  "language_info": {
   "codemirror_mode": {
    "name": "ipython",
    "version": 3
   },
   "file_extension": ".py",
   "mimetype": "text/x-python",
   "name": "python",
   "nbconvert_exporter": "python",
   "pygments_lexer": "ipython3",
   "version": "3.7.1"
  }
 },
 "nbformat": 4,
 "nbformat_minor": 2
}
